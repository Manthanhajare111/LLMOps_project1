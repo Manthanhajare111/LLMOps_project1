{
 "cells": [
  {
   "cell_type": "markdown",
   "metadata": {},
   "source": [
    "1. Data Ingestion"
   ]
  },
  {
   "cell_type": "code",
   "execution_count": 1,
   "metadata": {},
   "outputs": [],
   "source": [
    "from langchain_community.document_loaders import PyPDFLoader"
   ]
  },
  {
   "cell_type": "code",
   "execution_count": 2,
   "metadata": {},
   "outputs": [],
   "source": [
    "from langchain.text_splitter import RecursiveCharacterTextSplitter"
   ]
  },
  {
   "cell_type": "code",
   "execution_count": 3,
   "metadata": {},
   "outputs": [],
   "source": [
    "import os"
   ]
  },
  {
   "cell_type": "code",
   "execution_count": 4,
   "metadata": {},
   "outputs": [
    {
     "data": {
      "text/plain": [
       "'e:\\\\Test-ML\\\\LLMOps_project1\\\\notebook\\\\data'"
      ]
     },
     "execution_count": 4,
     "metadata": {},
     "output_type": "execute_result"
    }
   ],
   "source": [
    "os.getcwd()"
   ]
  },
  {
   "cell_type": "code",
   "execution_count": 5,
   "metadata": {},
   "outputs": [],
   "source": [
    "file_path=os.path.join(os.getcwd(), \"data\", \"notebook\\data\\Hari-3yrs_python.pdf\")"
   ]
  },
  {
   "cell_type": "code",
   "execution_count": 6,
   "metadata": {},
   "outputs": [
    {
     "data": {
      "text/plain": [
       "'e:\\\\Test-ML\\\\LLMOps_project1\\\\notebook\\\\data\\\\data\\\\notebook\\\\data\\\\Hari-3yrs_python.pdf'"
      ]
     },
     "execution_count": 6,
     "metadata": {},
     "output_type": "execute_result"
    }
   ],
   "source": [
    "file_path"
   ]
  },
  {
   "cell_type": "code",
   "execution_count": 7,
   "metadata": {},
   "outputs": [
    {
     "data": {
      "text/plain": [
       "2"
      ]
     },
     "execution_count": 7,
     "metadata": {},
     "output_type": "execute_result"
    }
   ],
   "source": [
    "loader=PyPDFLoader(\"Hari-3yrs_python.pdf\")\n",
    "documents=loader.load()\n",
    "documents\n",
    "len(documents)"
   ]
  },
  {
   "cell_type": "code",
   "execution_count": 8,
   "metadata": {},
   "outputs": [
    {
     "data": {
      "text/plain": [
       "[Document(metadata={'producer': 'pdfTeX-1.40.26', 'creator': 'LaTeX with RenderCV', 'creationdate': '2025-06-04T08:23:21+00:00', 'author': 'Harichandana Pulugundla', 'keywords': '', 'moddate': '2025-06-04T08:23:21+00:00', 'ptex.fullbanner': 'This is pdfTeX, Version 3.141592653-2.6-1.40.26 (TeX Live 2024) kpathsea version 6.4.0', 'subject': '', 'title': \"Harichandana Pulugundla's CV\", 'trapped': '/False', 'source': 'Hari-3yrs_python.pdf', 'total_pages': 2, 'page': 0, 'page_label': '1'}, page_content='Hari Chandana Pulugundla\\n♂¶ap-¶arker-altHyderabad, India /envel⌢peharichandanapulugundla922000@gmail.com ♂phone-alt+91 6301908311 /githubGitHub /linkedin-inLinkedIn\\nSummary\\nPython Backend Developer with 3 years of experience in designing and developing scalable backend solutions using\\nFlask and Django. Skilled in building RESTful APIs, integrating databases (PostgreSQL, MySQL), and optimizing applica-\\ntion performance. Experienced in GenAI development , with a strong foundation in AI-driven applications. Proficient\\nin debugging, deployment, and maintaining robust backend systems. Passionate about leveraging technology to build\\nefficient and impactful solutions.\\nSkills\\n• Programming Languages: Python, JavaScript, HTML, CSS\\n• Machine Learning: Supervised and Unsupervised Learning, LLM, Pandas, Gen AI\\n• Cloud: AWS\\n• Frameworks: Flask, Django, LangChain\\n• Databases: PostgreSQL, MySQL\\n• Other Tools: Git, Jira, Agile Methodology,Power BI\\nWork Experience\\nSenior Systems Engineer Infosys\\nJuly 2024 - Present\\n• Built and maintained RESTful APIs in Flask , integrating complex business logic and dynamic filtering systems, with\\nendpoints serving data to a frontend dashboard powered by Pandas for real-time analytics.\\n• Leveraged Pandas to process and summarize backend data for real-time dashboard analytics, enabling faster decision-\\nmaking for contract workflows. travel recommendations and assistance tailored to user preferences and requirements.\\n• Utilized SQLAlchemy to build dynamic, filterable SQL queries supporting pagination and role-based access in API end-\\npoints.\\nSystem Engineer Infosys\\nMarch 2023 - July 2024\\n• Implemented dynamic query building in Flask using SQLAlchemy, allowing users to apply multi-level filters, sorting,\\nand pagination through API requests for a seamless frontend experience.\\n• Reduced contract signing process completion time by 70%by developing Web applications for the process that relied\\non mail communication.\\n• Implemented user authentication and role-based access control for secure access.\\n• Automated data refresh usingPower BI service and scheduled updates.\\nSystem Engineer Trainee Infosys\\nJune 2022 - March 2023\\n• Assisted in the development of Direct Cost and Intercompany Applications using Python, Pandas, and Flask.\\n• Debugged and improved Python code for efficient performance.\\n• Created a financial reporting dashboard to monitor expenses, revenue forecasts, and budget varianceanalysis.\\nEducation\\nBachelor of Technology in ECE PBR Visvodaya Institute of Technology and Science, Kavali, AP\\nGraduated: 2021\\nPage 1 of 2'),\n",
       " Document(metadata={'producer': 'pdfTeX-1.40.26', 'creator': 'LaTeX with RenderCV', 'creationdate': '2025-06-04T08:23:21+00:00', 'author': 'Harichandana Pulugundla', 'keywords': '', 'moddate': '2025-06-04T08:23:21+00:00', 'ptex.fullbanner': 'This is pdfTeX, Version 3.141592653-2.6-1.40.26 (TeX Live 2024) kpathsea version 6.4.0', 'subject': '', 'title': \"Harichandana Pulugundla's CV\", 'trapped': '/False', 'source': 'Hari-3yrs_python.pdf', 'total_pages': 2, 'page': 1, 'page_label': '2'}, page_content='Personal Projects\\nQuery Automation (Python Backend Application)\\nPython, Streamlit\\n• Developed and deployed an LLM-based model for query categorization using Streamlit, achieving > 90% accuracy.\\n• Built an interactive web application with Streamlit, enabling real-time query processing and seamless user interac-\\ntion.\\nCertifications\\n• Infosys Certified Python Programmer\\n• Infosys Certified AWS Cloud Practitioner\\n• Infosys Certified SQL Developer\\nLanguages\\n• English (Fluent)\\n• Telugu (Native)\\n• Hindi (Intermediate)\\nInterests\\n• AI and Machine Learning Research\\n• Cloud Computing and DevOps\\n• Open Source Contribution\\nPage 2 of 2')]"
      ]
     },
     "execution_count": 8,
     "metadata": {},
     "output_type": "execute_result"
    }
   ],
   "source": [
    "documents"
   ]
  },
  {
   "cell_type": "code",
   "execution_count": 9,
   "metadata": {},
   "outputs": [],
   "source": [
    "text_splitter=RecursiveCharacterTextSplitter(\n",
    "    chunk_size=500,\n",
    "    chunk_overlap=150,\n",
    "    length_function=len\n",
    ")\n"
   ]
  },
  {
   "cell_type": "code",
   "execution_count": 10,
   "metadata": {},
   "outputs": [],
   "source": [
    "docs=text_splitter.split_documents(documents)\n"
   ]
  },
  {
   "cell_type": "code",
   "execution_count": 11,
   "metadata": {},
   "outputs": [
    {
     "data": {
      "text/plain": [
       "[Document(metadata={'producer': 'pdfTeX-1.40.26', 'creator': 'LaTeX with RenderCV', 'creationdate': '2025-06-04T08:23:21+00:00', 'author': 'Harichandana Pulugundla', 'keywords': '', 'moddate': '2025-06-04T08:23:21+00:00', 'ptex.fullbanner': 'This is pdfTeX, Version 3.141592653-2.6-1.40.26 (TeX Live 2024) kpathsea version 6.4.0', 'subject': '', 'title': \"Harichandana Pulugundla's CV\", 'trapped': '/False', 'source': 'Hari-3yrs_python.pdf', 'total_pages': 2, 'page': 0, 'page_label': '1'}, page_content='Hari Chandana Pulugundla\\n♂¶ap-¶arker-altHyderabad, India /envel⌢peharichandanapulugundla922000@gmail.com ♂phone-alt+91 6301908311 /githubGitHub /linkedin-inLinkedIn\\nSummary\\nPython Backend Developer with 3 years of experience in designing and developing scalable backend solutions using\\nFlask and Django. Skilled in building RESTful APIs, integrating databases (PostgreSQL, MySQL), and optimizing applica-'),\n",
       " Document(metadata={'producer': 'pdfTeX-1.40.26', 'creator': 'LaTeX with RenderCV', 'creationdate': '2025-06-04T08:23:21+00:00', 'author': 'Harichandana Pulugundla', 'keywords': '', 'moddate': '2025-06-04T08:23:21+00:00', 'ptex.fullbanner': 'This is pdfTeX, Version 3.141592653-2.6-1.40.26 (TeX Live 2024) kpathsea version 6.4.0', 'subject': '', 'title': \"Harichandana Pulugundla's CV\", 'trapped': '/False', 'source': 'Hari-3yrs_python.pdf', 'total_pages': 2, 'page': 0, 'page_label': '1'}, page_content='Flask and Django. Skilled in building RESTful APIs, integrating databases (PostgreSQL, MySQL), and optimizing applica-\\ntion performance. Experienced in GenAI development , with a strong foundation in AI-driven applications. Proficient\\nin debugging, deployment, and maintaining robust backend systems. Passionate about leveraging technology to build\\nefficient and impactful solutions.\\nSkills\\n• Programming Languages: Python, JavaScript, HTML, CSS'),\n",
       " Document(metadata={'producer': 'pdfTeX-1.40.26', 'creator': 'LaTeX with RenderCV', 'creationdate': '2025-06-04T08:23:21+00:00', 'author': 'Harichandana Pulugundla', 'keywords': '', 'moddate': '2025-06-04T08:23:21+00:00', 'ptex.fullbanner': 'This is pdfTeX, Version 3.141592653-2.6-1.40.26 (TeX Live 2024) kpathsea version 6.4.0', 'subject': '', 'title': \"Harichandana Pulugundla's CV\", 'trapped': '/False', 'source': 'Hari-3yrs_python.pdf', 'total_pages': 2, 'page': 0, 'page_label': '1'}, page_content='efficient and impactful solutions.\\nSkills\\n• Programming Languages: Python, JavaScript, HTML, CSS\\n• Machine Learning: Supervised and Unsupervised Learning, LLM, Pandas, Gen AI\\n• Cloud: AWS\\n• Frameworks: Flask, Django, LangChain\\n• Databases: PostgreSQL, MySQL\\n• Other Tools: Git, Jira, Agile Methodology,Power BI\\nWork Experience\\nSenior Systems Engineer Infosys\\nJuly 2024 - Present\\n• Built and maintained RESTful APIs in Flask , integrating complex business logic and dynamic filtering systems, with'),\n",
       " Document(metadata={'producer': 'pdfTeX-1.40.26', 'creator': 'LaTeX with RenderCV', 'creationdate': '2025-06-04T08:23:21+00:00', 'author': 'Harichandana Pulugundla', 'keywords': '', 'moddate': '2025-06-04T08:23:21+00:00', 'ptex.fullbanner': 'This is pdfTeX, Version 3.141592653-2.6-1.40.26 (TeX Live 2024) kpathsea version 6.4.0', 'subject': '', 'title': \"Harichandana Pulugundla's CV\", 'trapped': '/False', 'source': 'Hari-3yrs_python.pdf', 'total_pages': 2, 'page': 0, 'page_label': '1'}, page_content='July 2024 - Present\\n• Built and maintained RESTful APIs in Flask , integrating complex business logic and dynamic filtering systems, with\\nendpoints serving data to a frontend dashboard powered by Pandas for real-time analytics.\\n• Leveraged Pandas to process and summarize backend data for real-time dashboard analytics, enabling faster decision-\\nmaking for contract workflows. travel recommendations and assistance tailored to user preferences and requirements.'),\n",
       " Document(metadata={'producer': 'pdfTeX-1.40.26', 'creator': 'LaTeX with RenderCV', 'creationdate': '2025-06-04T08:23:21+00:00', 'author': 'Harichandana Pulugundla', 'keywords': '', 'moddate': '2025-06-04T08:23:21+00:00', 'ptex.fullbanner': 'This is pdfTeX, Version 3.141592653-2.6-1.40.26 (TeX Live 2024) kpathsea version 6.4.0', 'subject': '', 'title': \"Harichandana Pulugundla's CV\", 'trapped': '/False', 'source': 'Hari-3yrs_python.pdf', 'total_pages': 2, 'page': 0, 'page_label': '1'}, page_content='making for contract workflows. travel recommendations and assistance tailored to user preferences and requirements.\\n• Utilized SQLAlchemy to build dynamic, filterable SQL queries supporting pagination and role-based access in API end-\\npoints.\\nSystem Engineer Infosys\\nMarch 2023 - July 2024\\n• Implemented dynamic query building in Flask using SQLAlchemy, allowing users to apply multi-level filters, sorting,\\nand pagination through API requests for a seamless frontend experience.'),\n",
       " Document(metadata={'producer': 'pdfTeX-1.40.26', 'creator': 'LaTeX with RenderCV', 'creationdate': '2025-06-04T08:23:21+00:00', 'author': 'Harichandana Pulugundla', 'keywords': '', 'moddate': '2025-06-04T08:23:21+00:00', 'ptex.fullbanner': 'This is pdfTeX, Version 3.141592653-2.6-1.40.26 (TeX Live 2024) kpathsea version 6.4.0', 'subject': '', 'title': \"Harichandana Pulugundla's CV\", 'trapped': '/False', 'source': 'Hari-3yrs_python.pdf', 'total_pages': 2, 'page': 0, 'page_label': '1'}, page_content='and pagination through API requests for a seamless frontend experience.\\n• Reduced contract signing process completion time by 70%by developing Web applications for the process that relied\\non mail communication.\\n• Implemented user authentication and role-based access control for secure access.\\n• Automated data refresh usingPower BI service and scheduled updates.\\nSystem Engineer Trainee Infosys\\nJune 2022 - March 2023'),\n",
       " Document(metadata={'producer': 'pdfTeX-1.40.26', 'creator': 'LaTeX with RenderCV', 'creationdate': '2025-06-04T08:23:21+00:00', 'author': 'Harichandana Pulugundla', 'keywords': '', 'moddate': '2025-06-04T08:23:21+00:00', 'ptex.fullbanner': 'This is pdfTeX, Version 3.141592653-2.6-1.40.26 (TeX Live 2024) kpathsea version 6.4.0', 'subject': '', 'title': \"Harichandana Pulugundla's CV\", 'trapped': '/False', 'source': 'Hari-3yrs_python.pdf', 'total_pages': 2, 'page': 0, 'page_label': '1'}, page_content='• Automated data refresh usingPower BI service and scheduled updates.\\nSystem Engineer Trainee Infosys\\nJune 2022 - March 2023\\n• Assisted in the development of Direct Cost and Intercompany Applications using Python, Pandas, and Flask.\\n• Debugged and improved Python code for efficient performance.\\n• Created a financial reporting dashboard to monitor expenses, revenue forecasts, and budget varianceanalysis.\\nEducation'),\n",
       " Document(metadata={'producer': 'pdfTeX-1.40.26', 'creator': 'LaTeX with RenderCV', 'creationdate': '2025-06-04T08:23:21+00:00', 'author': 'Harichandana Pulugundla', 'keywords': '', 'moddate': '2025-06-04T08:23:21+00:00', 'ptex.fullbanner': 'This is pdfTeX, Version 3.141592653-2.6-1.40.26 (TeX Live 2024) kpathsea version 6.4.0', 'subject': '', 'title': \"Harichandana Pulugundla's CV\", 'trapped': '/False', 'source': 'Hari-3yrs_python.pdf', 'total_pages': 2, 'page': 0, 'page_label': '1'}, page_content='• Created a financial reporting dashboard to monitor expenses, revenue forecasts, and budget varianceanalysis.\\nEducation\\nBachelor of Technology in ECE PBR Visvodaya Institute of Technology and Science, Kavali, AP\\nGraduated: 2021\\nPage 1 of 2'),\n",
       " Document(metadata={'producer': 'pdfTeX-1.40.26', 'creator': 'LaTeX with RenderCV', 'creationdate': '2025-06-04T08:23:21+00:00', 'author': 'Harichandana Pulugundla', 'keywords': '', 'moddate': '2025-06-04T08:23:21+00:00', 'ptex.fullbanner': 'This is pdfTeX, Version 3.141592653-2.6-1.40.26 (TeX Live 2024) kpathsea version 6.4.0', 'subject': '', 'title': \"Harichandana Pulugundla's CV\", 'trapped': '/False', 'source': 'Hari-3yrs_python.pdf', 'total_pages': 2, 'page': 1, 'page_label': '2'}, page_content='Personal Projects\\nQuery Automation (Python Backend Application)\\nPython, Streamlit\\n• Developed and deployed an LLM-based model for query categorization using Streamlit, achieving > 90% accuracy.\\n• Built an interactive web application with Streamlit, enabling real-time query processing and seamless user interac-\\ntion.\\nCertifications\\n• Infosys Certified Python Programmer\\n• Infosys Certified AWS Cloud Practitioner\\n• Infosys Certified SQL Developer\\nLanguages\\n• English (Fluent)\\n• Telugu (Native)'),\n",
       " Document(metadata={'producer': 'pdfTeX-1.40.26', 'creator': 'LaTeX with RenderCV', 'creationdate': '2025-06-04T08:23:21+00:00', 'author': 'Harichandana Pulugundla', 'keywords': '', 'moddate': '2025-06-04T08:23:21+00:00', 'ptex.fullbanner': 'This is pdfTeX, Version 3.141592653-2.6-1.40.26 (TeX Live 2024) kpathsea version 6.4.0', 'subject': '', 'title': \"Harichandana Pulugundla's CV\", 'trapped': '/False', 'source': 'Hari-3yrs_python.pdf', 'total_pages': 2, 'page': 1, 'page_label': '2'}, page_content='• Infosys Certified AWS Cloud Practitioner\\n• Infosys Certified SQL Developer\\nLanguages\\n• English (Fluent)\\n• Telugu (Native)\\n• Hindi (Intermediate)\\nInterests\\n• AI and Machine Learning Research\\n• Cloud Computing and DevOps\\n• Open Source Contribution\\nPage 2 of 2')]"
      ]
     },
     "execution_count": 11,
     "metadata": {},
     "output_type": "execute_result"
    }
   ],
   "source": [
    "docs"
   ]
  },
  {
   "cell_type": "code",
   "execution_count": 12,
   "metadata": {},
   "outputs": [
    {
     "data": {
      "text/plain": [
       "Document(metadata={'producer': 'pdfTeX-1.40.26', 'creator': 'LaTeX with RenderCV', 'creationdate': '2025-06-04T08:23:21+00:00', 'author': 'Harichandana Pulugundla', 'keywords': '', 'moddate': '2025-06-04T08:23:21+00:00', 'ptex.fullbanner': 'This is pdfTeX, Version 3.141592653-2.6-1.40.26 (TeX Live 2024) kpathsea version 6.4.0', 'subject': '', 'title': \"Harichandana Pulugundla's CV\", 'trapped': '/False', 'source': 'Hari-3yrs_python.pdf', 'total_pages': 2, 'page': 0, 'page_label': '1'}, page_content='Hari Chandana Pulugundla\\n♂¶ap-¶arker-altHyderabad, India /envel⌢peharichandanapulugundla922000@gmail.com ♂phone-alt+91 6301908311 /githubGitHub /linkedin-inLinkedIn\\nSummary\\nPython Backend Developer with 3 years of experience in designing and developing scalable backend solutions using\\nFlask and Django. Skilled in building RESTful APIs, integrating databases (PostgreSQL, MySQL), and optimizing applica-')"
      ]
     },
     "execution_count": 12,
     "metadata": {},
     "output_type": "execute_result"
    }
   ],
   "source": [
    "\n",
    "docs[0]"
   ]
  },
  {
   "cell_type": "code",
   "execution_count": 13,
   "metadata": {},
   "outputs": [
    {
     "data": {
      "text/plain": [
       "{'producer': 'pdfTeX-1.40.26',\n",
       " 'creator': 'LaTeX with RenderCV',\n",
       " 'creationdate': '2025-06-04T08:23:21+00:00',\n",
       " 'author': 'Harichandana Pulugundla',\n",
       " 'keywords': '',\n",
       " 'moddate': '2025-06-04T08:23:21+00:00',\n",
       " 'ptex.fullbanner': 'This is pdfTeX, Version 3.141592653-2.6-1.40.26 (TeX Live 2024) kpathsea version 6.4.0',\n",
       " 'subject': '',\n",
       " 'title': \"Harichandana Pulugundla's CV\",\n",
       " 'trapped': '/False',\n",
       " 'source': 'Hari-3yrs_python.pdf',\n",
       " 'total_pages': 2,\n",
       " 'page': 0,\n",
       " 'page_label': '1'}"
      ]
     },
     "execution_count": 13,
     "metadata": {},
     "output_type": "execute_result"
    }
   ],
   "source": [
    "docs[0].metadata"
   ]
  },
  {
   "cell_type": "code",
   "execution_count": 14,
   "metadata": {},
   "outputs": [],
   "source": [
    "0,1,2,3\n",
    "page_lable=4\n",
    "\n",
    "\n",
    "page_index=3\n",
    "page_lable=4"
   ]
  },
  {
   "cell_type": "code",
   "execution_count": 15,
   "metadata": {},
   "outputs": [
    {
     "data": {
      "text/plain": [
       "(3, 4)"
      ]
     },
     "execution_count": 15,
     "metadata": {},
     "output_type": "execute_result"
    }
   ],
   "source": [
    "page_index,page_lable"
   ]
  },
  {
   "cell_type": "code",
   "execution_count": 16,
   "metadata": {},
   "outputs": [
    {
     "data": {
      "text/plain": [
       "10"
      ]
     },
     "execution_count": 16,
     "metadata": {},
     "output_type": "execute_result"
    }
   ],
   "source": [
    "len(docs)"
   ]
  },
  {
   "cell_type": "code",
   "execution_count": 17,
   "metadata": {},
   "outputs": [
    {
     "data": {
      "text/plain": [
       "{'producer': 'pdfTeX-1.40.26',\n",
       " 'creator': 'LaTeX with RenderCV',\n",
       " 'creationdate': '2025-06-04T08:23:21+00:00',\n",
       " 'author': 'Harichandana Pulugundla',\n",
       " 'keywords': '',\n",
       " 'moddate': '2025-06-04T08:23:21+00:00',\n",
       " 'ptex.fullbanner': 'This is pdfTeX, Version 3.141592653-2.6-1.40.26 (TeX Live 2024) kpathsea version 6.4.0',\n",
       " 'subject': '',\n",
       " 'title': \"Harichandana Pulugundla's CV\",\n",
       " 'trapped': '/False',\n",
       " 'source': 'Hari-3yrs_python.pdf',\n",
       " 'total_pages': 2,\n",
       " 'page': 0,\n",
       " 'page_label': '1'}"
      ]
     },
     "execution_count": 17,
     "metadata": {},
     "output_type": "execute_result"
    }
   ],
   "source": [
    "docs[4].metadata"
   ]
  },
  {
   "cell_type": "code",
   "execution_count": 18,
   "metadata": {},
   "outputs": [
    {
     "data": {
      "text/plain": [
       "'• Infosys Certified AWS Cloud Practitioner\\n• Infosys Certified SQL Developer\\nLanguages\\n• English (Fluent)\\n• Telugu (Native)\\n• Hindi (Intermediate)\\nInterests\\n• AI and Machine Learning Research\\n• Cloud Computing and DevOps\\n• Open Source Contribution\\nPage 2 of 2'"
      ]
     },
     "execution_count": 18,
     "metadata": {},
     "output_type": "execute_result"
    }
   ],
   "source": [
    "docs[9].page_content"
   ]
  },
  {
   "cell_type": "code",
   "execution_count": 19,
   "metadata": {},
   "outputs": [
    {
     "data": {
      "text/plain": [
       "True"
      ]
     },
     "execution_count": 19,
     "metadata": {},
     "output_type": "execute_result"
    }
   ],
   "source": [
    "from dotenv import load_dotenv\n",
    "load_dotenv()"
   ]
  },
  {
   "cell_type": "code",
   "execution_count": 20,
   "metadata": {},
   "outputs": [],
   "source": [
    "from langchain.vectorstores import FAISS"
   ]
  },
  {
   "cell_type": "code",
   "execution_count": 21,
   "metadata": {},
   "outputs": [
    {
     "name": "stderr",
     "output_type": "stream",
     "text": [
      "e:\\myenv\\Lib\\site-packages\\google\\rpc\\__init__.py:18: UserWarning: pkg_resources is deprecated as an API. See https://setuptools.pypa.io/en/latest/pkg_resources.html. The pkg_resources package is slated for removal as early as 2025-11-30. Refrain from using this package or pin to Setuptools<81.\n",
      "  import pkg_resources\n"
     ]
    }
   ],
   "source": [
    "from langchain_google_genai import GoogleGenerativeAIEmbeddings\n"
   ]
  },
  {
   "cell_type": "code",
   "execution_count": 22,
   "metadata": {},
   "outputs": [],
   "source": [
    "embedding_model=GoogleGenerativeAIEmbeddings(model=\"models/embedding-001\")\n"
   ]
  },
  {
   "cell_type": "code",
   "execution_count": 23,
   "metadata": {},
   "outputs": [],
   "source": [
    "doc_vector1=embedding_model.embed_query(\"What is the capital of France?\")"
   ]
  },
  {
   "cell_type": "code",
   "execution_count": 24,
   "metadata": {},
   "outputs": [
    {
     "data": {
      "text/plain": [
       "768"
      ]
     },
     "execution_count": 24,
     "metadata": {},
     "output_type": "execute_result"
    }
   ],
   "source": [
    "len(doc_vector1)\n"
   ]
  },
  {
   "cell_type": "code",
   "execution_count": 25,
   "metadata": {},
   "outputs": [],
   "source": [
    "doc_vector=embedding_model.embed_documents(docs[0].page_content)"
   ]
  },
  {
   "cell_type": "code",
   "execution_count": 26,
   "metadata": {},
   "outputs": [
    {
     "data": {
      "text/plain": [
       "404"
      ]
     },
     "execution_count": 26,
     "metadata": {},
     "output_type": "execute_result"
    }
   ],
   "source": [
    "len(doc_vector)"
   ]
  },
  {
   "cell_type": "code",
   "execution_count": 27,
   "metadata": {},
   "outputs": [],
   "source": [
    "vectorstore=FAISS.from_documents(docs, embedding_model)"
   ]
  },
  {
   "cell_type": "code",
   "execution_count": 28,
   "metadata": {},
   "outputs": [
    {
     "data": {
      "text/plain": [
       "<langchain_community.vectorstores.faiss.FAISS at 0x1626525cd90>"
      ]
     },
     "execution_count": 28,
     "metadata": {},
     "output_type": "execute_result"
    }
   ],
   "source": [
    "vectorstore"
   ]
  },
  {
   "cell_type": "markdown",
   "metadata": {},
   "source": [
    "token->words\n",
    "\n",
    "chunk--> it is collection of words(token)[characters]\n",
    "\n",
    "in memory(faiss is in memory vector store,chroma)\n",
    "\n",
    "on disk storage(faiss you can persist over the disk,chroma)\n",
    "\n",
    "cloud storage(cloud variant of faiss is not available)(pinecone,weaviate,milvus,mongodbvectorsearch,astradb)"
   ]
  },
  {
   "cell_type": "markdown",
   "metadata": {},
   "source": [
    "### This is a Retrieval proceesss\n",
    "means from the vectordatabase we are going to fetch or retrive or rank the most appropriate k result"
   ]
  },
  {
   "cell_type": "code",
   "execution_count": 29,
   "metadata": {},
   "outputs": [],
   "source": [
    "relevant_doc=vectorstore.similarity_search(\"llama2 finetuning benchmark experiments.\")\n"
   ]
  },
  {
   "cell_type": "code",
   "execution_count": 30,
   "metadata": {},
   "outputs": [
    {
     "data": {
      "text/plain": [
       "[Document(id='63ae5317-4e1a-4be2-86fa-8e240cb69000', metadata={'producer': 'pdfTeX-1.40.26', 'creator': 'LaTeX with RenderCV', 'creationdate': '2025-06-04T08:23:21+00:00', 'author': 'Harichandana Pulugundla', 'keywords': '', 'moddate': '2025-06-04T08:23:21+00:00', 'ptex.fullbanner': 'This is pdfTeX, Version 3.141592653-2.6-1.40.26 (TeX Live 2024) kpathsea version 6.4.0', 'subject': '', 'title': \"Harichandana Pulugundla's CV\", 'trapped': '/False', 'source': 'Hari-3yrs_python.pdf', 'total_pages': 2, 'page': 0, 'page_label': '1'}, page_content='July 2024 - Present\\n• Built and maintained RESTful APIs in Flask , integrating complex business logic and dynamic filtering systems, with\\nendpoints serving data to a frontend dashboard powered by Pandas for real-time analytics.\\n• Leveraged Pandas to process and summarize backend data for real-time dashboard analytics, enabling faster decision-\\nmaking for contract workflows. travel recommendations and assistance tailored to user preferences and requirements.'),\n",
       " Document(id='5f69296a-da82-4337-adcb-d04c9532eaa7', metadata={'producer': 'pdfTeX-1.40.26', 'creator': 'LaTeX with RenderCV', 'creationdate': '2025-06-04T08:23:21+00:00', 'author': 'Harichandana Pulugundla', 'keywords': '', 'moddate': '2025-06-04T08:23:21+00:00', 'ptex.fullbanner': 'This is pdfTeX, Version 3.141592653-2.6-1.40.26 (TeX Live 2024) kpathsea version 6.4.0', 'subject': '', 'title': \"Harichandana Pulugundla's CV\", 'trapped': '/False', 'source': 'Hari-3yrs_python.pdf', 'total_pages': 2, 'page': 0, 'page_label': '1'}, page_content='Flask and Django. Skilled in building RESTful APIs, integrating databases (PostgreSQL, MySQL), and optimizing applica-\\ntion performance. Experienced in GenAI development , with a strong foundation in AI-driven applications. Proficient\\nin debugging, deployment, and maintaining robust backend systems. Passionate about leveraging technology to build\\nefficient and impactful solutions.\\nSkills\\n• Programming Languages: Python, JavaScript, HTML, CSS'),\n",
       " Document(id='eb4dc384-ad97-493d-9125-4b33f531093e', metadata={'producer': 'pdfTeX-1.40.26', 'creator': 'LaTeX with RenderCV', 'creationdate': '2025-06-04T08:23:21+00:00', 'author': 'Harichandana Pulugundla', 'keywords': '', 'moddate': '2025-06-04T08:23:21+00:00', 'ptex.fullbanner': 'This is pdfTeX, Version 3.141592653-2.6-1.40.26 (TeX Live 2024) kpathsea version 6.4.0', 'subject': '', 'title': \"Harichandana Pulugundla's CV\", 'trapped': '/False', 'source': 'Hari-3yrs_python.pdf', 'total_pages': 2, 'page': 1, 'page_label': '2'}, page_content='• Infosys Certified AWS Cloud Practitioner\\n• Infosys Certified SQL Developer\\nLanguages\\n• English (Fluent)\\n• Telugu (Native)\\n• Hindi (Intermediate)\\nInterests\\n• AI and Machine Learning Research\\n• Cloud Computing and DevOps\\n• Open Source Contribution\\nPage 2 of 2'),\n",
       " Document(id='c744aead-362c-46a9-a3d0-341267de7d74', metadata={'producer': 'pdfTeX-1.40.26', 'creator': 'LaTeX with RenderCV', 'creationdate': '2025-06-04T08:23:21+00:00', 'author': 'Harichandana Pulugundla', 'keywords': '', 'moddate': '2025-06-04T08:23:21+00:00', 'ptex.fullbanner': 'This is pdfTeX, Version 3.141592653-2.6-1.40.26 (TeX Live 2024) kpathsea version 6.4.0', 'subject': '', 'title': \"Harichandana Pulugundla's CV\", 'trapped': '/False', 'source': 'Hari-3yrs_python.pdf', 'total_pages': 2, 'page': 0, 'page_label': '1'}, page_content='• Automated data refresh usingPower BI service and scheduled updates.\\nSystem Engineer Trainee Infosys\\nJune 2022 - March 2023\\n• Assisted in the development of Direct Cost and Intercompany Applications using Python, Pandas, and Flask.\\n• Debugged and improved Python code for efficient performance.\\n• Created a financial reporting dashboard to monitor expenses, revenue forecasts, and budget varianceanalysis.\\nEducation')]"
      ]
     },
     "execution_count": 30,
     "metadata": {},
     "output_type": "execute_result"
    }
   ],
   "source": [
    "relevant_doc"
   ]
  },
  {
   "cell_type": "code",
   "execution_count": 31,
   "metadata": {},
   "outputs": [
    {
     "name": "stdout",
     "output_type": "stream",
     "text": [
      "-------####-----\n",
      "July 2024 - Present\n",
      "• Built and maintained RESTful APIs in Flask , integrating complex business logic and dynamic filtering systems, with\n",
      "endpoints serving data to a frontend dashboard powered by Pandas for real-time analytics.\n",
      "• Leveraged Pandas to process and summarize backend data for real-time dashboard analytics, enabling faster decision-\n",
      "making for contract workflows. travel recommendations and assistance tailored to user preferences and requirements.\n",
      "-------####-----\n",
      "Flask and Django. Skilled in building RESTful APIs, integrating databases (PostgreSQL, MySQL), and optimizing applica-\n",
      "tion performance. Experienced in GenAI development , with a strong foundation in AI-driven applications. Proficient\n",
      "in debugging, deployment, and maintaining robust backend systems. Passionate about leveraging technology to build\n",
      "efficient and impactful solutions.\n",
      "Skills\n",
      "• Programming Languages: Python, JavaScript, HTML, CSS\n",
      "-------####-----\n",
      "• Infosys Certified AWS Cloud Practitioner\n",
      "• Infosys Certified SQL Developer\n",
      "Languages\n",
      "• English (Fluent)\n",
      "• Telugu (Native)\n",
      "• Hindi (Intermediate)\n",
      "Interests\n",
      "• AI and Machine Learning Research\n",
      "• Cloud Computing and DevOps\n",
      "• Open Source Contribution\n",
      "Page 2 of 2\n",
      "-------####-----\n",
      "• Automated data refresh usingPower BI service and scheduled updates.\n",
      "System Engineer Trainee Infosys\n",
      "June 2022 - March 2023\n",
      "• Assisted in the development of Direct Cost and Intercompany Applications using Python, Pandas, and Flask.\n",
      "• Debugged and improved Python code for efficient performance.\n",
      "• Created a financial reporting dashboard to monitor expenses, revenue forecasts, and budget varianceanalysis.\n",
      "Education\n"
     ]
    }
   ],
   "source": [
    "for i in relevant_doc:\n",
    "    print(\"-------####-----\")\n",
    "    print(i.page_content)"
   ]
  },
  {
   "cell_type": "code",
   "execution_count": 32,
   "metadata": {},
   "outputs": [],
   "source": [
    "relevant_doc=vectorstore.similarity_search(\"Ai Experience\",k=1)"
   ]
  },
  {
   "cell_type": "code",
   "execution_count": 33,
   "metadata": {},
   "outputs": [
    {
     "data": {
      "text/plain": [
       "[Document(id='5f69296a-da82-4337-adcb-d04c9532eaa7', metadata={'producer': 'pdfTeX-1.40.26', 'creator': 'LaTeX with RenderCV', 'creationdate': '2025-06-04T08:23:21+00:00', 'author': 'Harichandana Pulugundla', 'keywords': '', 'moddate': '2025-06-04T08:23:21+00:00', 'ptex.fullbanner': 'This is pdfTeX, Version 3.141592653-2.6-1.40.26 (TeX Live 2024) kpathsea version 6.4.0', 'subject': '', 'title': \"Harichandana Pulugundla's CV\", 'trapped': '/False', 'source': 'Hari-3yrs_python.pdf', 'total_pages': 2, 'page': 0, 'page_label': '1'}, page_content='Flask and Django. Skilled in building RESTful APIs, integrating databases (PostgreSQL, MySQL), and optimizing applica-\\ntion performance. Experienced in GenAI development , with a strong foundation in AI-driven applications. Proficient\\nin debugging, deployment, and maintaining robust backend systems. Passionate about leveraging technology to build\\nefficient and impactful solutions.\\nSkills\\n• Programming Languages: Python, JavaScript, HTML, CSS')]"
      ]
     },
     "execution_count": 33,
     "metadata": {},
     "output_type": "execute_result"
    }
   ],
   "source": [
    "relevant_doc"
   ]
  },
  {
   "cell_type": "markdown",
   "metadata": {},
   "source": [
    "#### you can explore about keyword filtering"
   ]
  },
  {
   "cell_type": "code",
   "execution_count": 34,
   "metadata": {},
   "outputs": [],
   "source": [
    "retriever = vectorstore.as_retriever(search_kwargs={\"k\": 3})"
   ]
  },
  {
   "cell_type": "markdown",
   "metadata": {},
   "source": [
    "### Create a question based bot so will give you answers based on the question"
   ]
  },
  {
   "cell_type": "code",
   "execution_count": 35,
   "metadata": {},
   "outputs": [],
   "source": [
    "prompt_template = \"\"\"\n",
    "        Answer the question based on the context provided below. \n",
    "        If the context does not contain sufficient information, respond with: \n",
    "        \"I do not have enough information about this.\"\n",
    "\n",
    "        Context: {context}\n",
    "\n",
    "        Question: {question}\n",
    "\n",
    "        Answer:\"\"\""
   ]
  },
  {
   "cell_type": "code",
   "execution_count": 36,
   "metadata": {},
   "outputs": [],
   "source": [
    "from langchain.prompts import PromptTemplate"
   ]
  },
  {
   "cell_type": "code",
   "execution_count": 37,
   "metadata": {},
   "outputs": [
    {
     "data": {
      "text/plain": [
       "PromptTemplate(input_variables=['context', 'question'], input_types={}, partial_variables={}, template='\\n        Answer the question based on the context provided below. \\n        If the context does not contain sufficient information, respond with: \\n        \"I do not have enough information about this.\"\\n\\n        Context: {context}\\n\\n        Question: {question}\\n\\n        Answer:')"
      ]
     },
     "execution_count": 37,
     "metadata": {},
     "output_type": "execute_result"
    }
   ],
   "source": [
    "prompt=PromptTemplate(\n",
    "    template=prompt_template,\n",
    "    input_variables=[\"context\", \"question\"]\n",
    ")\n",
    "prompt"
   ]
  },
  {
   "cell_type": "code",
   "execution_count": 38,
   "metadata": {},
   "outputs": [],
   "source": [
    "from langchain_core.output_parsers import StrOutputParser"
   ]
  },
  {
   "cell_type": "code",
   "execution_count": 39,
   "metadata": {},
   "outputs": [],
   "source": [
    "parser = StrOutputParser()"
   ]
  },
  {
   "cell_type": "code",
   "execution_count": 40,
   "metadata": {},
   "outputs": [],
   "source": [
    "def format_docs(docs):\n",
    "    return \"\\n\\n\".join([doc.page_content for doc in docs])"
   ]
  },
  {
   "cell_type": "code",
   "execution_count": 41,
   "metadata": {},
   "outputs": [],
   "source": [
    "from langchain_core.runnables import RunnablePassthrough"
   ]
  },
  {
   "cell_type": "code",
   "execution_count": 42,
   "metadata": {},
   "outputs": [],
   "source": [
    "from langchain_groq import ChatGroq"
   ]
  },
  {
   "cell_type": "code",
   "execution_count": 43,
   "metadata": {},
   "outputs": [],
   "source": [
    "from dotenv import load_dotenv\n"
   ]
  },
  {
   "cell_type": "code",
   "execution_count": 44,
   "metadata": {},
   "outputs": [
    {
     "data": {
      "text/plain": [
       "True"
      ]
     },
     "execution_count": 44,
     "metadata": {},
     "output_type": "execute_result"
    }
   ],
   "source": [
    "load_dotenv()"
   ]
  },
  {
   "cell_type": "code",
   "execution_count": 45,
   "metadata": {},
   "outputs": [],
   "source": [
    "from langchain_google_genai import ChatGoogleGenerativeAI\n",
    "from dotenv import load_dotenv\n",
    "import os\n",
    "\n",
    "load_dotenv()\n",
    "\n",
    "llm = ChatGoogleGenerativeAI(\n",
    "    model=\"gemini-2.5-flash\",  \n",
    "    google_api_key=os.getenv(\"GOOGLE_API_KEY\")\n",
    ")\n",
    "\n",
    "\n"
   ]
  },
  {
   "cell_type": "code",
   "execution_count": 46,
   "metadata": {},
   "outputs": [],
   "source": [
    "rag_chain = (\n",
    "    {\"context\": retriever |format_docs , \"question\":RunnablePassthrough()}\n",
    "    | prompt\n",
    "    | llm\n",
    "    | StrOutputParser()\n",
    ")"
   ]
  },
  {
   "cell_type": "code",
   "execution_count": 50,
   "metadata": {},
   "outputs": [
    {
     "data": {
      "text/plain": [
       "'I do not have enough information about this.'"
      ]
     },
     "execution_count": 50,
     "metadata": {},
     "output_type": "execute_result"
    }
   ],
   "source": [
    "rag_chain.invoke(\"What is candidate name \")"
   ]
  },
  {
   "cell_type": "code",
   "execution_count": 49,
   "metadata": {},
   "outputs": [
    {
     "data": {
      "text/plain": [
       "'The candidate did graduation at PBR Visvodaya Institute of Technology and Science, Kavali, AP.'"
      ]
     },
     "execution_count": 49,
     "metadata": {},
     "output_type": "execute_result"
    }
   ],
   "source": [
    "rag_chain.invoke(\"where did candidate did graduation?\")"
   ]
  },
  {
   "cell_type": "code",
   "execution_count": null,
   "metadata": {},
   "outputs": [],
   "source": []
  }
 ],
 "metadata": {
  "kernelspec": {
   "display_name": "myenv",
   "language": "python",
   "name": "python3"
  },
  "language_info": {
   "codemirror_mode": {
    "name": "ipython",
    "version": 3
   },
   "file_extension": ".py",
   "mimetype": "text/x-python",
   "name": "python",
   "nbconvert_exporter": "python",
   "pygments_lexer": "ipython3",
   "version": "3.11.9"
  }
 },
 "nbformat": 4,
 "nbformat_minor": 2
}
